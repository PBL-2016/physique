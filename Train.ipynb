{
 "cells": [
  {
   "cell_type": "code",
   "execution_count": 1,
   "metadata": {
    "collapsed": false
   },
   "outputs": [],
   "source": [
    "import numpy as np\n",
    "import pandas as pd\n",
    "import matplotlib.pyplot as plt\n",
    "from sklearn.metrics import silhouette_samples\n",
    "from matplotlib import cm\n",
    "from sklearn.cluster import KMeans\n",
    "from IPython.display import display, HTML\n",
    "%matplotlib inline"
   ]
  },
  {
   "cell_type": "code",
   "execution_count": 2,
   "metadata": {
    "collapsed": true
   },
   "outputs": [],
   "source": [
    "df = pd.read_csv(\"joined.csv\")"
   ]
  },
  {
   "cell_type": "code",
   "execution_count": 3,
   "metadata": {
    "collapsed": false
   },
   "outputs": [
    {
     "data": {
      "text/html": [
       "<div>\n",
       "<table border=\"1\" class=\"dataframe\">\n",
       "  <thead>\n",
       "    <tr style=\"text-align: right;\">\n",
       "      <th></th>\n",
       "      <th>画像</th>\n",
       "      <th>始点X</th>\n",
       "      <th>始点Y</th>\n",
       "      <th>終点X</th>\n",
       "      <th>終点Y</th>\n",
       "      <th>o有無</th>\n",
       "      <th>o地味派手</th>\n",
       "      <th>o丈</th>\n",
       "      <th>oR</th>\n",
       "      <th>oG</th>\n",
       "      <th>...</th>\n",
       "      <th>bザラ</th>\n",
       "      <th>b模様</th>\n",
       "      <th>肌R</th>\n",
       "      <th>肌G</th>\n",
       "      <th>肌B</th>\n",
       "      <th>髪R</th>\n",
       "      <th>髪G</th>\n",
       "      <th>髪B</th>\n",
       "      <th>幅比</th>\n",
       "      <th>輪郭</th>\n",
       "    </tr>\n",
       "  </thead>\n",
       "  <tbody>\n",
       "    <tr>\n",
       "      <th>0</th>\n",
       "      <td>000000004.jpg</td>\n",
       "      <td>91</td>\n",
       "      <td>25</td>\n",
       "      <td>296</td>\n",
       "      <td>681</td>\n",
       "      <td>1</td>\n",
       "      <td>0</td>\n",
       "      <td>1.0</td>\n",
       "      <td>74</td>\n",
       "      <td>76</td>\n",
       "      <td>...</td>\n",
       "      <td>1</td>\n",
       "      <td>0</td>\n",
       "      <td>234</td>\n",
       "      <td>203</td>\n",
       "      <td>199</td>\n",
       "      <td>130</td>\n",
       "      <td>107</td>\n",
       "      <td>107</td>\n",
       "      <td>2.519231</td>\n",
       "      <td>b'square'</td>\n",
       "    </tr>\n",
       "    <tr>\n",
       "      <th>1</th>\n",
       "      <td>000000008.jpg</td>\n",
       "      <td>68</td>\n",
       "      <td>13</td>\n",
       "      <td>232</td>\n",
       "      <td>564</td>\n",
       "      <td>1</td>\n",
       "      <td>0</td>\n",
       "      <td>1.0</td>\n",
       "      <td>72</td>\n",
       "      <td>75</td>\n",
       "      <td>...</td>\n",
       "      <td>0</td>\n",
       "      <td>0</td>\n",
       "      <td>235</td>\n",
       "      <td>194</td>\n",
       "      <td>181</td>\n",
       "      <td>49</td>\n",
       "      <td>40</td>\n",
       "      <td>47</td>\n",
       "      <td>3.263158</td>\n",
       "      <td>b'square'</td>\n",
       "    </tr>\n",
       "    <tr>\n",
       "      <th>2</th>\n",
       "      <td>000000009.jpg</td>\n",
       "      <td>114</td>\n",
       "      <td>29</td>\n",
       "      <td>221</td>\n",
       "      <td>457</td>\n",
       "      <td>1</td>\n",
       "      <td>0</td>\n",
       "      <td>1.0</td>\n",
       "      <td>38</td>\n",
       "      <td>38</td>\n",
       "      <td>...</td>\n",
       "      <td>0</td>\n",
       "      <td>0</td>\n",
       "      <td>199</td>\n",
       "      <td>156</td>\n",
       "      <td>134</td>\n",
       "      <td>27</td>\n",
       "      <td>25</td>\n",
       "      <td>25</td>\n",
       "      <td>3.025000</td>\n",
       "      <td>b'circle'</td>\n",
       "    </tr>\n",
       "    <tr>\n",
       "      <th>3</th>\n",
       "      <td>000000012.jpg</td>\n",
       "      <td>229</td>\n",
       "      <td>38</td>\n",
       "      <td>375</td>\n",
       "      <td>626</td>\n",
       "      <td>1</td>\n",
       "      <td>0</td>\n",
       "      <td>0.0</td>\n",
       "      <td>174</td>\n",
       "      <td>158</td>\n",
       "      <td>...</td>\n",
       "      <td>0</td>\n",
       "      <td>4</td>\n",
       "      <td>181</td>\n",
       "      <td>130</td>\n",
       "      <td>99</td>\n",
       "      <td>66</td>\n",
       "      <td>44</td>\n",
       "      <td>26</td>\n",
       "      <td>3.562500</td>\n",
       "      <td>b'square'</td>\n",
       "    </tr>\n",
       "    <tr>\n",
       "      <th>4</th>\n",
       "      <td>000000013.jpg</td>\n",
       "      <td>109</td>\n",
       "      <td>28</td>\n",
       "      <td>265</td>\n",
       "      <td>577</td>\n",
       "      <td>1</td>\n",
       "      <td>0</td>\n",
       "      <td>1.0</td>\n",
       "      <td>28</td>\n",
       "      <td>26</td>\n",
       "      <td>...</td>\n",
       "      <td>0</td>\n",
       "      <td>0</td>\n",
       "      <td>224</td>\n",
       "      <td>175</td>\n",
       "      <td>146</td>\n",
       "      <td>36</td>\n",
       "      <td>30</td>\n",
       "      <td>28</td>\n",
       "      <td>3.086957</td>\n",
       "      <td>b'square'</td>\n",
       "    </tr>\n",
       "    <tr>\n",
       "      <th>5</th>\n",
       "      <td>000000014.jpg</td>\n",
       "      <td>79</td>\n",
       "      <td>2</td>\n",
       "      <td>165</td>\n",
       "      <td>261</td>\n",
       "      <td>1</td>\n",
       "      <td>0</td>\n",
       "      <td>1.0</td>\n",
       "      <td>21</td>\n",
       "      <td>23</td>\n",
       "      <td>...</td>\n",
       "      <td>0</td>\n",
       "      <td>0</td>\n",
       "      <td>215</td>\n",
       "      <td>166</td>\n",
       "      <td>138</td>\n",
       "      <td>34</td>\n",
       "      <td>27</td>\n",
       "      <td>22</td>\n",
       "      <td>2.674419</td>\n",
       "      <td>b'square'</td>\n",
       "    </tr>\n",
       "    <tr>\n",
       "      <th>6</th>\n",
       "      <td>000000015.jpg</td>\n",
       "      <td>82</td>\n",
       "      <td>21</td>\n",
       "      <td>506</td>\n",
       "      <td>857</td>\n",
       "      <td>1</td>\n",
       "      <td>0</td>\n",
       "      <td>1.0</td>\n",
       "      <td>38</td>\n",
       "      <td>52</td>\n",
       "      <td>...</td>\n",
       "      <td>0</td>\n",
       "      <td>0</td>\n",
       "      <td>228</td>\n",
       "      <td>195</td>\n",
       "      <td>186</td>\n",
       "      <td>203</td>\n",
       "      <td>173</td>\n",
       "      <td>160</td>\n",
       "      <td>2.367089</td>\n",
       "      <td>b'square'</td>\n",
       "    </tr>\n",
       "    <tr>\n",
       "      <th>7</th>\n",
       "      <td>000000024.jpg</td>\n",
       "      <td>358</td>\n",
       "      <td>0</td>\n",
       "      <td>519</td>\n",
       "      <td>403</td>\n",
       "      <td>1</td>\n",
       "      <td>0</td>\n",
       "      <td>1.0</td>\n",
       "      <td>201</td>\n",
       "      <td>166</td>\n",
       "      <td>...</td>\n",
       "      <td>0</td>\n",
       "      <td>0</td>\n",
       "      <td>148</td>\n",
       "      <td>100</td>\n",
       "      <td>81</td>\n",
       "      <td>28</td>\n",
       "      <td>23</td>\n",
       "      <td>19</td>\n",
       "      <td>2.566667</td>\n",
       "      <td>b'square'</td>\n",
       "    </tr>\n",
       "    <tr>\n",
       "      <th>8</th>\n",
       "      <td>000000025.jpg</td>\n",
       "      <td>126</td>\n",
       "      <td>23</td>\n",
       "      <td>309</td>\n",
       "      <td>564</td>\n",
       "      <td>1</td>\n",
       "      <td>0</td>\n",
       "      <td>0.3</td>\n",
       "      <td>249</td>\n",
       "      <td>248</td>\n",
       "      <td>...</td>\n",
       "      <td>0</td>\n",
       "      <td>0</td>\n",
       "      <td>210</td>\n",
       "      <td>170</td>\n",
       "      <td>141</td>\n",
       "      <td>34</td>\n",
       "      <td>29</td>\n",
       "      <td>30</td>\n",
       "      <td>1.720930</td>\n",
       "      <td>b'square'</td>\n",
       "    </tr>\n",
       "    <tr>\n",
       "      <th>9</th>\n",
       "      <td>000000027.jpg</td>\n",
       "      <td>131</td>\n",
       "      <td>5</td>\n",
       "      <td>367</td>\n",
       "      <td>631</td>\n",
       "      <td>0</td>\n",
       "      <td>0</td>\n",
       "      <td>1.0</td>\n",
       "      <td>255</td>\n",
       "      <td>255</td>\n",
       "      <td>...</td>\n",
       "      <td>0</td>\n",
       "      <td>0</td>\n",
       "      <td>190</td>\n",
       "      <td>132</td>\n",
       "      <td>118</td>\n",
       "      <td>68</td>\n",
       "      <td>39</td>\n",
       "      <td>41</td>\n",
       "      <td>3.806452</td>\n",
       "      <td>b'square'</td>\n",
       "    </tr>\n",
       "    <tr>\n",
       "      <th>10</th>\n",
       "      <td>000000030.jpg</td>\n",
       "      <td>118</td>\n",
       "      <td>0</td>\n",
       "      <td>275</td>\n",
       "      <td>465</td>\n",
       "      <td>0</td>\n",
       "      <td>0</td>\n",
       "      <td>1.0</td>\n",
       "      <td>121</td>\n",
       "      <td>148</td>\n",
       "      <td>...</td>\n",
       "      <td>0</td>\n",
       "      <td>0</td>\n",
       "      <td>209</td>\n",
       "      <td>170</td>\n",
       "      <td>165</td>\n",
       "      <td>86</td>\n",
       "      <td>76</td>\n",
       "      <td>98</td>\n",
       "      <td>3.437500</td>\n",
       "      <td>b'square'</td>\n",
       "    </tr>\n",
       "    <tr>\n",
       "      <th>11</th>\n",
       "      <td>000000032.jpg</td>\n",
       "      <td>224</td>\n",
       "      <td>21</td>\n",
       "      <td>700</td>\n",
       "      <td>869</td>\n",
       "      <td>1</td>\n",
       "      <td>0</td>\n",
       "      <td>1.0</td>\n",
       "      <td>48</td>\n",
       "      <td>49</td>\n",
       "      <td>...</td>\n",
       "      <td>0</td>\n",
       "      <td>0</td>\n",
       "      <td>234</td>\n",
       "      <td>180</td>\n",
       "      <td>145</td>\n",
       "      <td>83</td>\n",
       "      <td>56</td>\n",
       "      <td>31</td>\n",
       "      <td>3.000000</td>\n",
       "      <td>b'square'</td>\n",
       "    </tr>\n",
       "    <tr>\n",
       "      <th>12</th>\n",
       "      <td>000000033.jpg</td>\n",
       "      <td>72</td>\n",
       "      <td>5</td>\n",
       "      <td>163</td>\n",
       "      <td>263</td>\n",
       "      <td>1</td>\n",
       "      <td>0</td>\n",
       "      <td>1.0</td>\n",
       "      <td>21</td>\n",
       "      <td>23</td>\n",
       "      <td>...</td>\n",
       "      <td>0</td>\n",
       "      <td>0</td>\n",
       "      <td>215</td>\n",
       "      <td>166</td>\n",
       "      <td>138</td>\n",
       "      <td>34</td>\n",
       "      <td>27</td>\n",
       "      <td>22</td>\n",
       "      <td>2.674419</td>\n",
       "      <td>b'square'</td>\n",
       "    </tr>\n",
       "    <tr>\n",
       "      <th>13</th>\n",
       "      <td>000000035.jpg</td>\n",
       "      <td>109</td>\n",
       "      <td>18</td>\n",
       "      <td>270</td>\n",
       "      <td>581</td>\n",
       "      <td>1</td>\n",
       "      <td>0</td>\n",
       "      <td>0.0</td>\n",
       "      <td>26</td>\n",
       "      <td>24</td>\n",
       "      <td>...</td>\n",
       "      <td>0</td>\n",
       "      <td>0</td>\n",
       "      <td>214</td>\n",
       "      <td>154</td>\n",
       "      <td>126</td>\n",
       "      <td>86</td>\n",
       "      <td>52</td>\n",
       "      <td>37</td>\n",
       "      <td>2.470588</td>\n",
       "      <td>b'square'</td>\n",
       "    </tr>\n",
       "    <tr>\n",
       "      <th>14</th>\n",
       "      <td>000000036.jpg</td>\n",
       "      <td>97</td>\n",
       "      <td>2</td>\n",
       "      <td>409</td>\n",
       "      <td>569</td>\n",
       "      <td>1</td>\n",
       "      <td>0</td>\n",
       "      <td>1.0</td>\n",
       "      <td>35</td>\n",
       "      <td>33</td>\n",
       "      <td>...</td>\n",
       "      <td>0</td>\n",
       "      <td>0</td>\n",
       "      <td>226</td>\n",
       "      <td>178</td>\n",
       "      <td>154</td>\n",
       "      <td>36</td>\n",
       "      <td>30</td>\n",
       "      <td>27</td>\n",
       "      <td>2.915254</td>\n",
       "      <td>b'square'</td>\n",
       "    </tr>\n",
       "    <tr>\n",
       "      <th>15</th>\n",
       "      <td>000000037.jpg</td>\n",
       "      <td>355</td>\n",
       "      <td>8</td>\n",
       "      <td>554</td>\n",
       "      <td>400</td>\n",
       "      <td>1</td>\n",
       "      <td>0</td>\n",
       "      <td>1.0</td>\n",
       "      <td>27</td>\n",
       "      <td>27</td>\n",
       "      <td>...</td>\n",
       "      <td>0</td>\n",
       "      <td>6</td>\n",
       "      <td>204</td>\n",
       "      <td>163</td>\n",
       "      <td>135</td>\n",
       "      <td>121</td>\n",
       "      <td>117</td>\n",
       "      <td>115</td>\n",
       "      <td>2.543478</td>\n",
       "      <td>b'square'</td>\n",
       "    </tr>\n",
       "    <tr>\n",
       "      <th>16</th>\n",
       "      <td>000000039.jpg</td>\n",
       "      <td>161</td>\n",
       "      <td>33</td>\n",
       "      <td>349</td>\n",
       "      <td>622</td>\n",
       "      <td>0</td>\n",
       "      <td>0</td>\n",
       "      <td>1.0</td>\n",
       "      <td>28</td>\n",
       "      <td>49</td>\n",
       "      <td>...</td>\n",
       "      <td>0</td>\n",
       "      <td>0</td>\n",
       "      <td>195</td>\n",
       "      <td>174</td>\n",
       "      <td>157</td>\n",
       "      <td>116</td>\n",
       "      <td>115</td>\n",
       "      <td>118</td>\n",
       "      <td>2.695652</td>\n",
       "      <td>b'square'</td>\n",
       "    </tr>\n",
       "    <tr>\n",
       "      <th>17</th>\n",
       "      <td>000000042.jpg</td>\n",
       "      <td>164</td>\n",
       "      <td>3</td>\n",
       "      <td>464</td>\n",
       "      <td>863</td>\n",
       "      <td>1</td>\n",
       "      <td>0</td>\n",
       "      <td>1.0</td>\n",
       "      <td>84</td>\n",
       "      <td>55</td>\n",
       "      <td>...</td>\n",
       "      <td>0</td>\n",
       "      <td>0</td>\n",
       "      <td>223</td>\n",
       "      <td>175</td>\n",
       "      <td>157</td>\n",
       "      <td>166</td>\n",
       "      <td>152</td>\n",
       "      <td>145</td>\n",
       "      <td>2.404255</td>\n",
       "      <td>b'square'</td>\n",
       "    </tr>\n",
       "    <tr>\n",
       "      <th>18</th>\n",
       "      <td>000000044.jpg</td>\n",
       "      <td>203</td>\n",
       "      <td>16</td>\n",
       "      <td>369</td>\n",
       "      <td>655</td>\n",
       "      <td>1</td>\n",
       "      <td>0</td>\n",
       "      <td>1.0</td>\n",
       "      <td>134</td>\n",
       "      <td>186</td>\n",
       "      <td>...</td>\n",
       "      <td>0</td>\n",
       "      <td>0</td>\n",
       "      <td>218</td>\n",
       "      <td>189</td>\n",
       "      <td>178</td>\n",
       "      <td>127</td>\n",
       "      <td>102</td>\n",
       "      <td>90</td>\n",
       "      <td>2.395349</td>\n",
       "      <td>b'square'</td>\n",
       "    </tr>\n",
       "    <tr>\n",
       "      <th>19</th>\n",
       "      <td>000000046.png</td>\n",
       "      <td>411</td>\n",
       "      <td>6</td>\n",
       "      <td>520</td>\n",
       "      <td>328</td>\n",
       "      <td>1</td>\n",
       "      <td>0</td>\n",
       "      <td>1.0</td>\n",
       "      <td>129</td>\n",
       "      <td>139</td>\n",
       "      <td>...</td>\n",
       "      <td>0</td>\n",
       "      <td>0</td>\n",
       "      <td>186</td>\n",
       "      <td>138</td>\n",
       "      <td>112</td>\n",
       "      <td>16</td>\n",
       "      <td>11</td>\n",
       "      <td>11</td>\n",
       "      <td>3.384615</td>\n",
       "      <td>b'square'</td>\n",
       "    </tr>\n",
       "    <tr>\n",
       "      <th>20</th>\n",
       "      <td>000000047.jpg</td>\n",
       "      <td>481</td>\n",
       "      <td>20</td>\n",
       "      <td>710</td>\n",
       "      <td>771</td>\n",
       "      <td>1</td>\n",
       "      <td>0</td>\n",
       "      <td>1.0</td>\n",
       "      <td>64</td>\n",
       "      <td>99</td>\n",
       "      <td>...</td>\n",
       "      <td>0</td>\n",
       "      <td>0</td>\n",
       "      <td>169</td>\n",
       "      <td>132</td>\n",
       "      <td>109</td>\n",
       "      <td>68</td>\n",
       "      <td>54</td>\n",
       "      <td>50</td>\n",
       "      <td>2.190476</td>\n",
       "      <td>b'circle'</td>\n",
       "    </tr>\n",
       "    <tr>\n",
       "      <th>21</th>\n",
       "      <td>000000049.jpg</td>\n",
       "      <td>33</td>\n",
       "      <td>2</td>\n",
       "      <td>124</td>\n",
       "      <td>307</td>\n",
       "      <td>1</td>\n",
       "      <td>0</td>\n",
       "      <td>1.0</td>\n",
       "      <td>88</td>\n",
       "      <td>106</td>\n",
       "      <td>...</td>\n",
       "      <td>0</td>\n",
       "      <td>0</td>\n",
       "      <td>214</td>\n",
       "      <td>194</td>\n",
       "      <td>198</td>\n",
       "      <td>102</td>\n",
       "      <td>108</td>\n",
       "      <td>130</td>\n",
       "      <td>2.862069</td>\n",
       "      <td>b'square'</td>\n",
       "    </tr>\n",
       "  </tbody>\n",
       "</table>\n",
       "<p>22 rows × 62 columns</p>\n",
       "</div>"
      ],
      "text/plain": [
       "               画像  始点X  始点Y  終点X  終点Y  o有無  o地味派手   o丈   oR   oG    ...      \\\n",
       "0   000000004.jpg   91   25  296  681    1      0  1.0   74   76    ...       \n",
       "1   000000008.jpg   68   13  232  564    1      0  1.0   72   75    ...       \n",
       "2   000000009.jpg  114   29  221  457    1      0  1.0   38   38    ...       \n",
       "3   000000012.jpg  229   38  375  626    1      0  0.0  174  158    ...       \n",
       "4   000000013.jpg  109   28  265  577    1      0  1.0   28   26    ...       \n",
       "5   000000014.jpg   79    2  165  261    1      0  1.0   21   23    ...       \n",
       "6   000000015.jpg   82   21  506  857    1      0  1.0   38   52    ...       \n",
       "7   000000024.jpg  358    0  519  403    1      0  1.0  201  166    ...       \n",
       "8   000000025.jpg  126   23  309  564    1      0  0.3  249  248    ...       \n",
       "9   000000027.jpg  131    5  367  631    0      0  1.0  255  255    ...       \n",
       "10  000000030.jpg  118    0  275  465    0      0  1.0  121  148    ...       \n",
       "11  000000032.jpg  224   21  700  869    1      0  1.0   48   49    ...       \n",
       "12  000000033.jpg   72    5  163  263    1      0  1.0   21   23    ...       \n",
       "13  000000035.jpg  109   18  270  581    1      0  0.0   26   24    ...       \n",
       "14  000000036.jpg   97    2  409  569    1      0  1.0   35   33    ...       \n",
       "15  000000037.jpg  355    8  554  400    1      0  1.0   27   27    ...       \n",
       "16  000000039.jpg  161   33  349  622    0      0  1.0   28   49    ...       \n",
       "17  000000042.jpg  164    3  464  863    1      0  1.0   84   55    ...       \n",
       "18  000000044.jpg  203   16  369  655    1      0  1.0  134  186    ...       \n",
       "19  000000046.png  411    6  520  328    1      0  1.0  129  139    ...       \n",
       "20  000000047.jpg  481   20  710  771    1      0  1.0   64   99    ...       \n",
       "21  000000049.jpg   33    2  124  307    1      0  1.0   88  106    ...       \n",
       "\n",
       "    bザラ  b模様   肌R   肌G   肌B   髪R   髪G   髪B        幅比         輪郭  \n",
       "0     1    0  234  203  199  130  107  107  2.519231  b'square'  \n",
       "1     0    0  235  194  181   49   40   47  3.263158  b'square'  \n",
       "2     0    0  199  156  134   27   25   25  3.025000  b'circle'  \n",
       "3     0    4  181  130   99   66   44   26  3.562500  b'square'  \n",
       "4     0    0  224  175  146   36   30   28  3.086957  b'square'  \n",
       "5     0    0  215  166  138   34   27   22  2.674419  b'square'  \n",
       "6     0    0  228  195  186  203  173  160  2.367089  b'square'  \n",
       "7     0    0  148  100   81   28   23   19  2.566667  b'square'  \n",
       "8     0    0  210  170  141   34   29   30  1.720930  b'square'  \n",
       "9     0    0  190  132  118   68   39   41  3.806452  b'square'  \n",
       "10    0    0  209  170  165   86   76   98  3.437500  b'square'  \n",
       "11    0    0  234  180  145   83   56   31  3.000000  b'square'  \n",
       "12    0    0  215  166  138   34   27   22  2.674419  b'square'  \n",
       "13    0    0  214  154  126   86   52   37  2.470588  b'square'  \n",
       "14    0    0  226  178  154   36   30   27  2.915254  b'square'  \n",
       "15    0    6  204  163  135  121  117  115  2.543478  b'square'  \n",
       "16    0    0  195  174  157  116  115  118  2.695652  b'square'  \n",
       "17    0    0  223  175  157  166  152  145  2.404255  b'square'  \n",
       "18    0    0  218  189  178  127  102   90  2.395349  b'square'  \n",
       "19    0    0  186  138  112   16   11   11  3.384615  b'square'  \n",
       "20    0    0  169  132  109   68   54   50  2.190476  b'circle'  \n",
       "21    0    0  214  194  198  102  108  130  2.862069  b'square'  \n",
       "\n",
       "[22 rows x 62 columns]"
      ]
     },
     "execution_count": 3,
     "metadata": {},
     "output_type": "execute_result"
    }
   ],
   "source": [
    "df"
   ]
  },
  {
   "cell_type": "code",
   "execution_count": 4,
   "metadata": {
    "collapsed": false
   },
   "outputs": [],
   "source": [
    "df = df.drop(\"始点X\", axis=1).drop(\"始点Y\", axis=1).drop(\"終点X\", axis=1).drop(\"終点Y\", axis=1)"
   ]
  },
  {
   "cell_type": "code",
   "execution_count": 5,
   "metadata": {
    "collapsed": false
   },
   "outputs": [],
   "source": [
    "df = df.drop(\"o地味派手\", axis=1).drop(\"i地味派手\", axis=1).drop(\"b地味派手\", axis=1).drop(\"o丈\", axis=1).drop(\"i丈\", axis=1).drop(\"b丈\", axis=1)"
   ]
  },
  {
   "cell_type": "code",
   "execution_count": 6,
   "metadata": {
    "collapsed": false
   },
   "outputs": [
    {
     "data": {
      "text/plain": [
       "Index(['画像', 'o有無', 'oR', 'oG', 'oB', 'o目詰', 'o目粗', 'o薄', 'o厚', 'o軽', 'o重',\n",
       "       'o柔', 'o堅', 'oツル', 'oザラ', 'o模様', 'iR', 'iG', 'iB', 'i目詰', 'i目粗', 'i薄',\n",
       "       'i厚', 'i軽', 'i重', 'i柔', 'i堅', 'iツル', 'iザラ', 'i模様', 'bR', 'bG', 'bB',\n",
       "       'b目詰', 'b目粗', 'b薄', 'b厚', 'b軽', 'b重', 'b柔', 'b堅', 'bツル', 'bザラ', 'b模様',\n",
       "       '肌R', '肌G', '肌B', '髪R', '髪G', '髪B', '幅比', '輪郭'],\n",
       "      dtype='object')"
      ]
     },
     "execution_count": 6,
     "metadata": {},
     "output_type": "execute_result"
    }
   ],
   "source": [
    "df.columns"
   ]
  },
  {
   "cell_type": "code",
   "execution_count": 7,
   "metadata": {
    "collapsed": false
   },
   "outputs": [],
   "source": [
    "df[\"oR\"] = df[\"oR\"] / 255\n",
    "df[\"oG\"] = df[\"oG\"] / 255\n",
    "df[\"oB\"] = df[\"oB\"] / 255\n",
    "df[\"iR\"] = df[\"iR\"] / 255\n",
    "df[\"iG\"] = df[\"iG\"] / 255\n",
    "df[\"iB\"] = df[\"iB\"] / 255\n",
    "df[\"bR\"] = df[\"bR\"] / 255\n",
    "df[\"bG\"] = df[\"bG\"] / 255\n",
    "df[\"bB\"] = df[\"bB\"] / 255"
   ]
  },
  {
   "cell_type": "code",
   "execution_count": 8,
   "metadata": {
    "collapsed": false
   },
   "outputs": [],
   "source": [
    "ibdata = df.drop(\"画像\", axis=1).drop(\"o有無\", axis=1).drop(\"oR\", axis=1).drop(\"oG\", axis=1).drop(\"oB\", axis=1).drop(\"o目詰\", axis=1) \\\n",
    ".drop(\"o目粗\", axis=1).drop(\"o薄\", axis=1).drop(\"o厚\", axis=1).drop(\"o軽\",axis=1).drop(\"o重\", axis=1).drop(\"o柔\", axis=1).drop(\"o堅\", axis=1) \\\n",
    ".drop(\"oツル\", axis=1).drop(\"oザラ\", axis=1).drop(\"o模様\", axis=1).drop(\"肌R\", axis=1).drop(\"肌G\", axis=1).drop(\"肌B\", axis=1).drop(\"髪R\", axis=1) \\\n",
    ".drop(\"髪G\", axis=1).drop(\"髪B\", axis=1).drop(\"幅比\", axis=1).drop(\"輪郭\", axis=1)"
   ]
  },
  {
   "cell_type": "code",
   "execution_count": 9,
   "metadata": {
    "collapsed": false
   },
   "outputs": [
    {
     "data": {
      "text/plain": [
       "Index(['iR', 'iG', 'iB', 'i目詰', 'i目粗', 'i薄', 'i厚', 'i軽', 'i重', 'i柔', 'i堅',\n",
       "       'iツル', 'iザラ', 'i模様', 'bR', 'bG', 'bB', 'b目詰', 'b目粗', 'b薄', 'b厚', 'b軽',\n",
       "       'b重', 'b柔', 'b堅', 'bツル', 'bザラ', 'b模様'],\n",
       "      dtype='object')"
      ]
     },
     "execution_count": 9,
     "metadata": {},
     "output_type": "execute_result"
    }
   ],
   "source": [
    "ibdata.columns"
   ]
  },
  {
   "cell_type": "code",
   "execution_count": 10,
   "metadata": {
    "collapsed": true
   },
   "outputs": [],
   "source": [
    "ibdata = ibdata.as_matrix()"
   ]
  },
  {
   "cell_type": "code",
   "execution_count": 11,
   "metadata": {
    "collapsed": false
   },
   "outputs": [],
   "source": [
    "km = KMeans(n_clusters=5, init=\"k-means++\", n_init=10, max_iter=300, tol=1e-04, random_state=0)"
   ]
  },
  {
   "cell_type": "code",
   "execution_count": 12,
   "metadata": {
    "collapsed": true
   },
   "outputs": [],
   "source": [
    "y_km = km.fit_predict(ibdata)"
   ]
  },
  {
   "cell_type": "code",
   "execution_count": 13,
   "metadata": {
    "collapsed": false
   },
   "outputs": [
    {
     "data": {
      "text/plain": [
       "array([0, 4, 4, 2, 3, 3, 3, 4, 3, 4, 3, 1, 1, 1, 1, 2, 3, 0, 1, 1, 1, 4], dtype=int32)"
      ]
     },
     "execution_count": 13,
     "metadata": {},
     "output_type": "execute_result"
    }
   ],
   "source": [
    "# クラスタリング結果(服の組み合わせの分類：教師データ)\n",
    "y_km"
   ]
  },
  {
   "cell_type": "code",
   "execution_count": 14,
   "metadata": {
    "collapsed": true
   },
   "outputs": [],
   "source": [
    "cluster_labels = np.unique(y_km)\n",
    "n_clusters = cluster_labels.shape[0]"
   ]
  },
  {
   "cell_type": "code",
   "execution_count": 15,
   "metadata": {
    "collapsed": true
   },
   "outputs": [],
   "source": [
    "silhouette_vals = silhouette_samples(ibdata, y_km, metric='euclidean')\n",
    "y_ax_lower, y_ax_upper = 0, 0\n",
    "yticks = []"
   ]
  },
  {
   "cell_type": "code",
   "execution_count": 16,
   "metadata": {
    "collapsed": false
   },
   "outputs": [
    {
     "data": {
      "image/png": "[encoded data removed]",
      "text/plain": [
       "<matplotlib.figure.Figure at 0x7fdbb1410978>"
      ]
     },
     "metadata": {},
     "output_type": "display_data"
    }
   ],
   "source": [
    "for i,c in enumerate(cluster_labels):\n",
    "    c_silhouette_vals = silhouette_vals[y_km==c]\n",
    "    c_silhouette_vals.sort()\n",
    "    y_ax_upper += len(c_silhouette_vals)\n",
    "    color = cm.jet(float(i)/n_clusters)\n",
    "    plt.barh(range(y_ax_lower, y_ax_upper),\n",
    "             c_silhouette_vals,\n",
    "             height=1.0,\n",
    "             edgecolor='none',\n",
    "            color=color)\n",
    "    yticks.append((y_ax_lower+y_ax_upper)/2)\n",
    "    y_ax_lower += len(c_silhouette_vals)\n",
    "    \n",
    "silhouette_avg = np.mean(silhouette_vals)\n",
    "plt.axvline(silhouette_avg, color=\"red\", linestyle=\"--\")\n",
    "plt.yticks(yticks, cluster_labels + 1)\n",
    "plt.ylabel('Cluster')\n",
    "plt.xlabel('silhouette coefficient')\n",
    "plt.show()"
   ]
  },
  {
   "cell_type": "code",
   "execution_count": 17,
   "metadata": {
    "collapsed": false
   },
   "outputs": [
    {
     "data": {
      "text/plain": [
       "array([[  3.09803922e-01,   2.56862745e-01,   2.90196078e-01,\n",
       "          0.00000000e+00,   1.00000000e+00,   5.00000000e-01,\n",
       "          5.00000000e-01,   0.00000000e+00,   5.00000000e-01,\n",
       "          5.00000000e-01,   5.00000000e-01,   5.00000000e-01,\n",
       "          0.00000000e+00,   6.00000000e+00,   2.01960784e-01,\n",
       "          2.68627451e-01,   3.78431373e-01,   5.00000000e-01,\n",
       "          0.00000000e+00,   5.00000000e-01,   0.00000000e+00,\n",
       "          0.00000000e+00,   5.00000000e-01,   0.00000000e+00,\n",
       "          5.00000000e-01,   5.00000000e-01,   5.00000000e-01,\n",
       "          0.00000000e+00],\n",
       "       [  2.56022409e-01,   3.09803922e-01,   3.74789916e-01,\n",
       "          1.00000000e+00,  -1.38777878e-17,   1.00000000e+00,\n",
       "         -1.38777878e-17,   1.00000000e+00,  -1.38777878e-17,\n",
       "          1.00000000e+00,  -1.38777878e-17,   1.00000000e+00,\n",
       "          0.00000000e+00,   0.00000000e+00,   3.68067227e-01,\n",
       "          3.35014006e-01,   3.27170868e-01,   1.00000000e+00,\n",
       "         -6.93889390e-18,   1.00000000e+00,  -6.93889390e-18,\n",
       "          2.85714286e-01,   8.57142857e-01,   1.42857143e-01,\n",
       "          8.57142857e-01,   1.00000000e+00,  -6.93889390e-18,\n",
       "          0.00000000e+00],\n",
       "       [  3.94117647e-01,   3.62745098e-01,   3.39215686e-01,\n",
       "          5.00000000e-01,   0.00000000e+00,   1.00000000e+00,\n",
       "          0.00000000e+00,   1.00000000e+00,   0.00000000e+00,\n",
       "          1.00000000e+00,   0.00000000e+00,   5.00000000e-01,\n",
       "          0.00000000e+00,   0.00000000e+00,   4.88235294e-01,\n",
       "          5.11764706e-01,   5.25490196e-01,   0.00000000e+00,\n",
       "          5.00000000e-01,   1.00000000e+00,   0.00000000e+00,\n",
       "          1.00000000e+00,   0.00000000e+00,   5.00000000e-01,\n",
       "          0.00000000e+00,   5.00000000e-01,   0.00000000e+00,\n",
       "          5.00000000e+00],\n",
       "       [  3.16993464e-01,   3.56862745e-01,   4.16993464e-01,\n",
       "          1.66666667e-01,  -1.38777878e-17,   6.66666667e-01,\n",
       "         -1.38777878e-17,   1.66666667e-01,   1.66666667e-01,\n",
       "          3.33333333e-01,   1.66666667e-01,   3.33333333e-01,\n",
       "          3.33333333e-01,   0.00000000e+00,   4.80392157e-01,\n",
       "          4.58823529e-01,   4.53594771e-01,   3.33333333e-01,\n",
       "         -6.93889390e-18,   3.33333333e-01,  -6.93889390e-18,\n",
       "          1.66666667e-01,   0.00000000e+00,   6.66666667e-01,\n",
       "          1.66666667e-01,   6.66666667e-01,  -6.93889390e-18,\n",
       "          0.00000000e+00],\n",
       "       [  5.12941176e-01,   5.01960784e-01,   5.27843137e-01,\n",
       "          2.00000000e-01,   0.00000000e+00,   8.00000000e-01,\n",
       "          2.00000000e-01,   4.00000000e-01,   0.00000000e+00,\n",
       "          4.00000000e-01,   0.00000000e+00,   2.00000000e-01,\n",
       "          2.00000000e-01,   3.20000000e+00,   3.39607843e-01,\n",
       "          3.24705882e-01,   3.33333333e-01,   2.00000000e-01,\n",
       "          0.00000000e+00,   2.00000000e-01,   2.00000000e-01,\n",
       "          2.00000000e-01,   0.00000000e+00,   6.00000000e-01,\n",
       "          2.00000000e-01,   4.00000000e-01,   0.00000000e+00,\n",
       "          5.55111512e-17]])"
      ]
     },
     "execution_count": 17,
     "metadata": {},
     "output_type": "execute_result"
    }
   ],
   "source": [
    "km.cluster_centers_"
   ]
  },
  {
   "cell_type": "code",
   "execution_count": 18,
   "metadata": {
    "collapsed": false
   },
   "outputs": [],
   "source": [
    "Xdata = df.loc[:, [\"肌R\", \"肌G\", \"肌B\", \"髪R\", \"髪G\", \"髪B\", \"幅比\", \"輪郭\"]]"
   ]
  },
  {
   "cell_type": "code",
   "execution_count": 19,
   "metadata": {
    "collapsed": false
   },
   "outputs": [],
   "source": [
    "Xdata[\"肌R\"] /= 255\n",
    "Xdata[\"肌G\"] /= 255\n",
    "Xdata[\"肌B\"] /= 255"
   ]
  },
  {
   "cell_type": "code",
   "execution_count": 20,
   "metadata": {
    "collapsed": false
   },
   "outputs": [],
   "source": [
    "Xdata[\"髪R\"] /= 255\n",
    "Xdata[\"髪G\"] /= 255\n",
    "Xdata[\"髪B\"] /= 255"
   ]
  },
  {
   "cell_type": "code",
   "execution_count": 21,
   "metadata": {
    "collapsed": false
   },
   "outputs": [],
   "source": [
    "Xdata[\"輪郭\"] = Xdata[\"輪郭\"].replace(\"b'triangle'\", 0) \\\n",
    "                                              .replace(\"b'square'\", 1)\\\n",
    "                                              .replace(\"b'circle'\", 2)"
   ]
  },
  {
   "cell_type": "code",
   "execution_count": 22,
   "metadata": {
    "collapsed": false
   },
   "outputs": [],
   "source": [
    "# 訓練データ(ファッションモデルの身体特徴)\n",
    "X = Xdata.as_matrix().astype(np.float32)"
   ]
  },
  {
   "cell_type": "code",
   "execution_count": 23,
   "metadata": {
    "collapsed": false
   },
   "outputs": [
    {
     "data": {
      "text/plain": [
       "(22, 8)"
      ]
     },
     "execution_count": 23,
     "metadata": {},
     "output_type": "execute_result"
    }
   ],
   "source": [
    "X.shape"
   ]
  },
  {
   "cell_type": "code",
   "execution_count": 24,
   "metadata": {
    "collapsed": false
   },
   "outputs": [
    {
     "data": {
      "text/plain": [
       "(22, 5)"
      ]
     },
     "execution_count": 24,
     "metadata": {},
     "output_type": "execute_result"
    }
   ],
   "source": [
    "# 教師データ(1-hot)\n",
    "n_Y = len(y_km)\n",
    "Y = np.zeros((n_Y, n_clusters)).astype(np.float32)\n",
    "Y[np.arange(n_Y), y_km] = 1\n",
    "Y.shape"
   ]
  },
  {
   "cell_type": "code",
   "execution_count": 25,
   "metadata": {
    "collapsed": false
   },
   "outputs": [],
   "source": [
    "import chainer\n",
    "from chainer import Function, gradient_check, Variable, optimizers, serializers, utils\n",
    "from chainer import Link, Chain, ChainList\n",
    "import chainer.functions as F\n",
    "import chainer.links as L"
   ]
  },
  {
   "cell_type": "code",
   "execution_count": 188,
   "metadata": {
    "collapsed": false
   },
   "outputs": [],
   "source": [
    "class PBLModel(Chain):\n",
    "    def __init__(self):\n",
    "        super(PBLModel, self).__init__(\n",
    "            l1=L.Linear(8,10),\n",
    "            l2=L.Linear(10,5),\n",
    "        )\n",
    "    def __call__(self, x, y):\n",
    "        return F.mean_squared_error(self.fwd(x), y)\n",
    "    def fwd(self, x):\n",
    "        h1 = F.sigmoid(self.l1(x))\n",
    "        h2 = self.l2(h1)\n",
    "        return h2"
   ]
  },
  {
   "cell_type": "code",
   "execution_count": 189,
   "metadata": {
    "collapsed": false
   },
   "outputs": [],
   "source": [
    "model = PBLModel()\n",
    "optimizer = optimizers.SGD()\n",
    "optimizer.setup(model)"
   ]
  },
  {
   "cell_type": "code",
   "execution_count": 190,
   "metadata": {
    "collapsed": true
   },
   "outputs": [],
   "source": [
    "# モデルの訓練\n",
    "for i in range(10000):\n",
    "    x = Variable(X)\n",
    "    y = Variable(Y)\n",
    "    model.zerograds()\n",
    "    loss = model(x, y)\n",
    "    loss.backward()\n",
    "    optimizer.update()"
   ]
  },
  {
   "cell_type": "code",
   "execution_count": 29,
   "metadata": {
    "collapsed": false
   },
   "outputs": [
    {
     "name": "stdout",
     "output_type": "stream",
     "text": [
      "17 / 22  =  0.7727272727272727\n"
     ]
    }
   ],
   "source": [
    "# モデルのテスト\n",
    "xt = Variable(X, volatile='on')\n",
    "yt = model.fwd(xt)\n",
    "ans = yt.data\n",
    "yans = Y.nonzero()[1]\n",
    "nrow, ncol = ans.shape\n",
    "ok = 0\n",
    "for i in range(nrow):\n",
    "    cls = np.argmax(ans[i, :])\n",
    "    if cls == yans[i]:\n",
    "        ok += 1\n",
    "\n",
    "print(ok, \"/\", nrow, \" = \", (ok * 1.0)/nrow)"
   ]
  },
  {
   "cell_type": "code",
   "execution_count": 26,
   "metadata": {
    "collapsed": false
   },
   "outputs": [],
   "source": [
    "class PBLLogi(Chain):\n",
    "    def __init__(self):\n",
    "        super(PBLLogi, self).__init__(\n",
    "            l1=L.Linear(8,5),\n",
    "        )\n",
    "    \n",
    "    def __call__(self, x, y):\n",
    "        return F.mean_squared_error(self.fwd(x), y)\n",
    "    \n",
    "    def fwd(self, x):\n",
    "        return F.softmax(self.l1(x))"
   ]
  },
  {
   "cell_type": "code",
   "execution_count": 27,
   "metadata": {
    "collapsed": true
   },
   "outputs": [],
   "source": [
    "model = PBLLogi()\n",
    "optimizer = optimizers.Adam()\n",
    "optimizer.setup(model)"
   ]
  },
  {
   "cell_type": "code",
   "execution_count": 28,
   "metadata": {
    "collapsed": true
   },
   "outputs": [],
   "source": [
    "# モデルの訓練\n",
    "for i in range(10000):\n",
    "    x = Variable(X)\n",
    "    y = Variable(Y)\n",
    "    model.zerograds()\n",
    "    loss = model(x, y)\n",
    "    loss.backward()\n",
    "    optimizer.update()"
   ]
  },
  {
   "cell_type": "code",
   "execution_count": 30,
   "metadata": {
    "collapsed": true
   },
   "outputs": [],
   "source": [
    "myf = Variable(np.array([[192/255, 150/255, 155/255, 58/255, 62/255, 77/255, 2.11, 0]]).astype(np.float32), volatile='on')\n",
    "ymy = model.fwd(myf)\n",
    "ans = ymy.data"
   ]
  },
  {
   "cell_type": "code",
   "execution_count": 31,
   "metadata": {
    "collapsed": false
   },
   "outputs": [
    {
     "data": {
      "text/plain": [
       "3"
      ]
     },
     "execution_count": 31,
     "metadata": {},
     "output_type": "execute_result"
    }
   ],
   "source": [
    "np.argmax(ans[0, :])"
   ]
  },
  {
   "cell_type": "code",
   "execution_count": 32,
   "metadata": {
    "collapsed": false
   },
   "outputs": [
    {
     "data": {
      "text/plain": [
       "0.7529411764705882"
      ]
     },
     "execution_count": 32,
     "metadata": {},
     "output_type": "execute_result"
    }
   ],
   "source": [
    "192/255"
   ]
  },
  {
   "cell_type": "code",
   "execution_count": 33,
   "metadata": {
    "collapsed": false
   },
   "outputs": [],
   "source": [
    "serializers.save_hdf5('pbllogi.model', model)\n",
    "serializers.save_hdf5('pbllogi.state', optimizer)"
   ]
  },
  {
   "cell_type": "code",
   "execution_count": 35,
   "metadata": {
    "collapsed": false
   },
   "outputs": [],
   "source": [
    "cluster_data = df.loc[:, [\"画像\"]]"
   ]
  },
  {
   "cell_type": "code",
   "execution_count": 37,
   "metadata": {
    "collapsed": false
   },
   "outputs": [],
   "source": [
    "cluster_data[\"クラスタ\"] = y_km"
   ]
  },
  {
   "cell_type": "code",
   "execution_count": 43,
   "metadata": {
    "collapsed": false
   },
   "outputs": [
    {
     "data": {
      "text/html": [
       "<div>\n",
       "<table border=\"1\" class=\"dataframe\">\n",
       "  <thead>\n",
       "    <tr style=\"text-align: right;\">\n",
       "      <th></th>\n",
       "      <th>画像</th>\n",
       "      <th>クラスタ</th>\n",
       "    </tr>\n",
       "  </thead>\n",
       "  <tbody>\n",
       "    <tr>\n",
       "      <th>0</th>\n",
       "      <td>000000004.jpg</td>\n",
       "      <td>0</td>\n",
       "    </tr>\n",
       "    <tr>\n",
       "      <th>1</th>\n",
       "      <td>000000008.jpg</td>\n",
       "      <td>4</td>\n",
       "    </tr>\n",
       "    <tr>\n",
       "      <th>2</th>\n",
       "      <td>000000009.jpg</td>\n",
       "      <td>4</td>\n",
       "    </tr>\n",
       "    <tr>\n",
       "      <th>3</th>\n",
       "      <td>000000012.jpg</td>\n",
       "      <td>2</td>\n",
       "    </tr>\n",
       "    <tr>\n",
       "      <th>4</th>\n",
       "      <td>000000013.jpg</td>\n",
       "      <td>3</td>\n",
       "    </tr>\n",
       "    <tr>\n",
       "      <th>5</th>\n",
       "      <td>000000014.jpg</td>\n",
       "      <td>3</td>\n",
       "    </tr>\n",
       "    <tr>\n",
       "      <th>6</th>\n",
       "      <td>000000015.jpg</td>\n",
       "      <td>3</td>\n",
       "    </tr>\n",
       "    <tr>\n",
       "      <th>7</th>\n",
       "      <td>000000024.jpg</td>\n",
       "      <td>4</td>\n",
       "    </tr>\n",
       "    <tr>\n",
       "      <th>8</th>\n",
       "      <td>000000025.jpg</td>\n",
       "      <td>3</td>\n",
       "    </tr>\n",
       "    <tr>\n",
       "      <th>9</th>\n",
       "      <td>000000027.jpg</td>\n",
       "      <td>4</td>\n",
       "    </tr>\n",
       "    <tr>\n",
       "      <th>10</th>\n",
       "      <td>000000030.jpg</td>\n",
       "      <td>3</td>\n",
       "    </tr>\n",
       "    <tr>\n",
       "      <th>11</th>\n",
       "      <td>000000032.jpg</td>\n",
       "      <td>1</td>\n",
       "    </tr>\n",
       "    <tr>\n",
       "      <th>12</th>\n",
       "      <td>000000033.jpg</td>\n",
       "      <td>1</td>\n",
       "    </tr>\n",
       "    <tr>\n",
       "      <th>13</th>\n",
       "      <td>000000035.jpg</td>\n",
       "      <td>1</td>\n",
       "    </tr>\n",
       "    <tr>\n",
       "      <th>14</th>\n",
       "      <td>000000036.jpg</td>\n",
       "      <td>1</td>\n",
       "    </tr>\n",
       "    <tr>\n",
       "      <th>15</th>\n",
       "      <td>000000037.jpg</td>\n",
       "      <td>2</td>\n",
       "    </tr>\n",
       "    <tr>\n",
       "      <th>16</th>\n",
       "      <td>000000039.jpg</td>\n",
       "      <td>3</td>\n",
       "    </tr>\n",
       "    <tr>\n",
       "      <th>17</th>\n",
       "      <td>000000042.jpg</td>\n",
       "      <td>0</td>\n",
       "    </tr>\n",
       "    <tr>\n",
       "      <th>18</th>\n",
       "      <td>000000044.jpg</td>\n",
       "      <td>1</td>\n",
       "    </tr>\n",
       "    <tr>\n",
       "      <th>19</th>\n",
       "      <td>000000046.png</td>\n",
       "      <td>1</td>\n",
       "    </tr>\n",
       "    <tr>\n",
       "      <th>20</th>\n",
       "      <td>000000047.jpg</td>\n",
       "      <td>1</td>\n",
       "    </tr>\n",
       "    <tr>\n",
       "      <th>21</th>\n",
       "      <td>000000049.jpg</td>\n",
       "      <td>4</td>\n",
       "    </tr>\n",
       "  </tbody>\n",
       "</table>\n",
       "</div>"
      ],
      "text/plain": [
       "               画像  クラスタ\n",
       "0   000000004.jpg     0\n",
       "1   000000008.jpg     4\n",
       "2   000000009.jpg     4\n",
       "3   000000012.jpg     2\n",
       "4   000000013.jpg     3\n",
       "5   000000014.jpg     3\n",
       "6   000000015.jpg     3\n",
       "7   000000024.jpg     4\n",
       "8   000000025.jpg     3\n",
       "9   000000027.jpg     4\n",
       "10  000000030.jpg     3\n",
       "11  000000032.jpg     1\n",
       "12  000000033.jpg     1\n",
       "13  000000035.jpg     1\n",
       "14  000000036.jpg     1\n",
       "15  000000037.jpg     2\n",
       "16  000000039.jpg     3\n",
       "17  000000042.jpg     0\n",
       "18  000000044.jpg     1\n",
       "19  000000046.png     1\n",
       "20  000000047.jpg     1\n",
       "21  000000049.jpg     4"
      ]
     },
     "execution_count": 43,
     "metadata": {},
     "output_type": "execute_result"
    }
   ],
   "source": [
    "cluster_data.to_csv(\"model_cluster.csv\", index=False)\n",
    "cluster_data"
   ]
  },
  {
   "cell_type": "code",
   "execution_count": 41,
   "metadata": {
    "collapsed": false
   },
   "outputs": [],
   "source": [
    "cluster_centroids = pd.DataFrame(km.cluster_centers_,\n",
    "                                 columns=['iR', 'iG', 'iB', 'i目詰', 'i目粗', 'i薄', 'i厚', 'i軽', 'i重', 'i柔', 'i堅',\n",
    "       'iツル', 'iザラ', 'i模様', 'bR', 'bG', 'bB', 'b目詰', 'b目粗', 'b薄', 'b厚', 'b軽',\n",
    "       'b重', 'b柔', 'b堅', 'bツル', 'bザラ', 'b模様'])"
   ]
  },
  {
   "cell_type": "code",
   "execution_count": 45,
   "metadata": {
    "collapsed": false
   },
   "outputs": [
    {
     "data": {
      "text/html": [
       "<div>\n",
       "<table border=\"1\" class=\"dataframe\">\n",
       "  <thead>\n",
       "    <tr style=\"text-align: right;\">\n",
       "      <th></th>\n",
       "      <th>iR</th>\n",
       "      <th>iG</th>\n",
       "      <th>iB</th>\n",
       "      <th>i目詰</th>\n",
       "      <th>i目粗</th>\n",
       "      <th>i薄</th>\n",
       "      <th>i厚</th>\n",
       "      <th>i軽</th>\n",
       "      <th>i重</th>\n",
       "      <th>i柔</th>\n",
       "      <th>...</th>\n",
       "      <th>b目粗</th>\n",
       "      <th>b薄</th>\n",
       "      <th>b厚</th>\n",
       "      <th>b軽</th>\n",
       "      <th>b重</th>\n",
       "      <th>b柔</th>\n",
       "      <th>b堅</th>\n",
       "      <th>bツル</th>\n",
       "      <th>bザラ</th>\n",
       "      <th>b模様</th>\n",
       "    </tr>\n",
       "  </thead>\n",
       "  <tbody>\n",
       "    <tr>\n",
       "      <th>0</th>\n",
       "      <td>0.309804</td>\n",
       "      <td>0.256863</td>\n",
       "      <td>0.290196</td>\n",
       "      <td>0.000000</td>\n",
       "      <td>1.000000e+00</td>\n",
       "      <td>0.500000</td>\n",
       "      <td>5.000000e-01</td>\n",
       "      <td>0.000000</td>\n",
       "      <td>5.000000e-01</td>\n",
       "      <td>0.500000</td>\n",
       "      <td>...</td>\n",
       "      <td>0.000000e+00</td>\n",
       "      <td>0.500000</td>\n",
       "      <td>0.000000e+00</td>\n",
       "      <td>0.000000</td>\n",
       "      <td>0.500000</td>\n",
       "      <td>0.000000</td>\n",
       "      <td>0.500000</td>\n",
       "      <td>0.500000</td>\n",
       "      <td>5.000000e-01</td>\n",
       "      <td>0.000000e+00</td>\n",
       "    </tr>\n",
       "    <tr>\n",
       "      <th>1</th>\n",
       "      <td>0.256022</td>\n",
       "      <td>0.309804</td>\n",
       "      <td>0.374790</td>\n",
       "      <td>1.000000</td>\n",
       "      <td>-1.387779e-17</td>\n",
       "      <td>1.000000</td>\n",
       "      <td>-1.387779e-17</td>\n",
       "      <td>1.000000</td>\n",
       "      <td>-1.387779e-17</td>\n",
       "      <td>1.000000</td>\n",
       "      <td>...</td>\n",
       "      <td>-6.938894e-18</td>\n",
       "      <td>1.000000</td>\n",
       "      <td>-6.938894e-18</td>\n",
       "      <td>0.285714</td>\n",
       "      <td>0.857143</td>\n",
       "      <td>0.142857</td>\n",
       "      <td>0.857143</td>\n",
       "      <td>1.000000</td>\n",
       "      <td>-6.938894e-18</td>\n",
       "      <td>0.000000e+00</td>\n",
       "    </tr>\n",
       "    <tr>\n",
       "      <th>2</th>\n",
       "      <td>0.394118</td>\n",
       "      <td>0.362745</td>\n",
       "      <td>0.339216</td>\n",
       "      <td>0.500000</td>\n",
       "      <td>0.000000e+00</td>\n",
       "      <td>1.000000</td>\n",
       "      <td>0.000000e+00</td>\n",
       "      <td>1.000000</td>\n",
       "      <td>0.000000e+00</td>\n",
       "      <td>1.000000</td>\n",
       "      <td>...</td>\n",
       "      <td>5.000000e-01</td>\n",
       "      <td>1.000000</td>\n",
       "      <td>0.000000e+00</td>\n",
       "      <td>1.000000</td>\n",
       "      <td>0.000000</td>\n",
       "      <td>0.500000</td>\n",
       "      <td>0.000000</td>\n",
       "      <td>0.500000</td>\n",
       "      <td>0.000000e+00</td>\n",
       "      <td>5.000000e+00</td>\n",
       "    </tr>\n",
       "    <tr>\n",
       "      <th>3</th>\n",
       "      <td>0.316993</td>\n",
       "      <td>0.356863</td>\n",
       "      <td>0.416993</td>\n",
       "      <td>0.166667</td>\n",
       "      <td>-1.387779e-17</td>\n",
       "      <td>0.666667</td>\n",
       "      <td>-1.387779e-17</td>\n",
       "      <td>0.166667</td>\n",
       "      <td>1.666667e-01</td>\n",
       "      <td>0.333333</td>\n",
       "      <td>...</td>\n",
       "      <td>-6.938894e-18</td>\n",
       "      <td>0.333333</td>\n",
       "      <td>-6.938894e-18</td>\n",
       "      <td>0.166667</td>\n",
       "      <td>0.000000</td>\n",
       "      <td>0.666667</td>\n",
       "      <td>0.166667</td>\n",
       "      <td>0.666667</td>\n",
       "      <td>-6.938894e-18</td>\n",
       "      <td>0.000000e+00</td>\n",
       "    </tr>\n",
       "    <tr>\n",
       "      <th>4</th>\n",
       "      <td>0.512941</td>\n",
       "      <td>0.501961</td>\n",
       "      <td>0.527843</td>\n",
       "      <td>0.200000</td>\n",
       "      <td>0.000000e+00</td>\n",
       "      <td>0.800000</td>\n",
       "      <td>2.000000e-01</td>\n",
       "      <td>0.400000</td>\n",
       "      <td>0.000000e+00</td>\n",
       "      <td>0.400000</td>\n",
       "      <td>...</td>\n",
       "      <td>0.000000e+00</td>\n",
       "      <td>0.200000</td>\n",
       "      <td>2.000000e-01</td>\n",
       "      <td>0.200000</td>\n",
       "      <td>0.000000</td>\n",
       "      <td>0.600000</td>\n",
       "      <td>0.200000</td>\n",
       "      <td>0.400000</td>\n",
       "      <td>0.000000e+00</td>\n",
       "      <td>5.551115e-17</td>\n",
       "    </tr>\n",
       "  </tbody>\n",
       "</table>\n",
       "<p>5 rows × 28 columns</p>\n",
       "</div>"
      ],
      "text/plain": [
       "         iR        iG        iB       i目詰           i目粗        i薄  \\\n",
       "0  0.309804  0.256863  0.290196  0.000000  1.000000e+00  0.500000   \n",
       "1  0.256022  0.309804  0.374790  1.000000 -1.387779e-17  1.000000   \n",
       "2  0.394118  0.362745  0.339216  0.500000  0.000000e+00  1.000000   \n",
       "3  0.316993  0.356863  0.416993  0.166667 -1.387779e-17  0.666667   \n",
       "4  0.512941  0.501961  0.527843  0.200000  0.000000e+00  0.800000   \n",
       "\n",
       "             i厚        i軽            i重        i柔      ...                b目粗  \\\n",
       "0  5.000000e-01  0.000000  5.000000e-01  0.500000      ...       0.000000e+00   \n",
       "1 -1.387779e-17  1.000000 -1.387779e-17  1.000000      ...      -6.938894e-18   \n",
       "2  0.000000e+00  1.000000  0.000000e+00  1.000000      ...       5.000000e-01   \n",
       "3 -1.387779e-17  0.166667  1.666667e-01  0.333333      ...      -6.938894e-18   \n",
       "4  2.000000e-01  0.400000  0.000000e+00  0.400000      ...       0.000000e+00   \n",
       "\n",
       "         b薄            b厚        b軽        b重        b柔        b堅       bツル  \\\n",
       "0  0.500000  0.000000e+00  0.000000  0.500000  0.000000  0.500000  0.500000   \n",
       "1  1.000000 -6.938894e-18  0.285714  0.857143  0.142857  0.857143  1.000000   \n",
       "2  1.000000  0.000000e+00  1.000000  0.000000  0.500000  0.000000  0.500000   \n",
       "3  0.333333 -6.938894e-18  0.166667  0.000000  0.666667  0.166667  0.666667   \n",
       "4  0.200000  2.000000e-01  0.200000  0.000000  0.600000  0.200000  0.400000   \n",
       "\n",
       "            bザラ           b模様  \n",
       "0  5.000000e-01  0.000000e+00  \n",
       "1 -6.938894e-18  0.000000e+00  \n",
       "2  0.000000e+00  5.000000e+00  \n",
       "3 -6.938894e-18  0.000000e+00  \n",
       "4  0.000000e+00  5.551115e-17  \n",
       "\n",
       "[5 rows x 28 columns]"
      ]
     },
     "execution_count": 45,
     "metadata": {},
     "output_type": "execute_result"
    }
   ],
   "source": [
    "cluster_centroids.to_csv(\"centroids.csv\", index=False)\n",
    "cluster_centroids"
   ]
  },
  {
   "cell_type": "code",
   "execution_count": null,
   "metadata": {
    "collapsed": true
   },
   "outputs": [],
   "source": []
  }
 ],
 "metadata": {
  "kernelspec": {
   "display_name": "Python 3",
   "language": "python",
   "name": "python3"
  },
  "language_info": {
   "codemirror_mode": {
    "name": "ipython",
    "version": 3
   },
   "file_extension": ".py",
   "mimetype": "text/x-python",
   "name": "python",
   "nbconvert_exporter": "python",
   "pygments_lexer": "ipython3",
   "version": "3.5.2"
  }
 },
 "nbformat": 4,
 "nbformat_minor": 2
}
